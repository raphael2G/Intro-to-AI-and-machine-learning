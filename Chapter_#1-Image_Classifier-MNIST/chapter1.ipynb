{
 "cells": [
  {
   "cell_type": "code",
   "execution_count": 18,
   "metadata": {},
   "outputs": [
    {
     "name": "stdout",
     "output_type": "stream",
     "text": [
      "Defaulting to user installation because normal site-packages is not writeable\n",
      "Requirement already satisfied: tensorflow in /Users/derekarmfield/Library/Python/3.8/lib/python/site-packages (2.11.0)\n",
      "Requirement already satisfied: h5py>=2.9.0 in /Users/derekarmfield/Library/Python/3.8/lib/python/site-packages (from tensorflow) (3.7.0)\n",
      "Requirement already satisfied: tensorflow-io-gcs-filesystem>=0.23.1 in /Users/derekarmfield/Library/Python/3.8/lib/python/site-packages (from tensorflow) (0.28.0)\n",
      "Requirement already satisfied: protobuf<3.20,>=3.9.2 in /Users/derekarmfield/Library/Python/3.8/lib/python/site-packages (from tensorflow) (3.19.6)\n",
      "Requirement already satisfied: grpcio<2.0,>=1.24.3 in /Users/derekarmfield/Library/Python/3.8/lib/python/site-packages (from tensorflow) (1.51.1)\n",
      "Requirement already satisfied: astunparse>=1.6.0 in /Users/derekarmfield/Library/Python/3.8/lib/python/site-packages (from tensorflow) (1.6.3)\n",
      "Requirement already satisfied: libclang>=13.0.0 in /Users/derekarmfield/Library/Python/3.8/lib/python/site-packages (from tensorflow) (14.0.6)\n",
      "Requirement already satisfied: tensorboard<2.12,>=2.11 in /Users/derekarmfield/Library/Python/3.8/lib/python/site-packages (from tensorflow) (2.11.0)\n",
      "Requirement already satisfied: typing-extensions>=3.6.6 in /Users/derekarmfield/Library/Python/3.8/lib/python/site-packages (from tensorflow) (4.4.0)\n",
      "Requirement already satisfied: keras<2.12,>=2.11.0 in /Users/derekarmfield/Library/Python/3.8/lib/python/site-packages (from tensorflow) (2.11.0)\n",
      "Requirement already satisfied: google-pasta>=0.1.1 in /Users/derekarmfield/Library/Python/3.8/lib/python/site-packages (from tensorflow) (0.2.0)\n",
      "Requirement already satisfied: numpy>=1.20 in /Users/derekarmfield/Library/Python/3.8/lib/python/site-packages (from tensorflow) (1.23.5)\n",
      "Requirement already satisfied: setuptools in /Library/Developer/CommandLineTools/Library/Frameworks/Python3.framework/Versions/3.8/lib/python3.8/site-packages (from tensorflow) (41.2.0)\n",
      "Requirement already satisfied: gast<=0.4.0,>=0.2.1 in /Users/derekarmfield/Library/Python/3.8/lib/python/site-packages (from tensorflow) (0.4.0)\n",
      "Requirement already satisfied: wrapt>=1.11.0 in /Users/derekarmfield/Library/Python/3.8/lib/python/site-packages (from tensorflow) (1.14.1)\n",
      "Requirement already satisfied: termcolor>=1.1.0 in /Users/derekarmfield/Library/Python/3.8/lib/python/site-packages (from tensorflow) (2.1.1)\n",
      "Requirement already satisfied: packaging in /Users/derekarmfield/Library/Python/3.8/lib/python/site-packages (from tensorflow) (21.3)\n",
      "Requirement already satisfied: absl-py>=1.0.0 in /Users/derekarmfield/Library/Python/3.8/lib/python/site-packages (from tensorflow) (1.3.0)\n",
      "Requirement already satisfied: opt-einsum>=2.3.2 in /Users/derekarmfield/Library/Python/3.8/lib/python/site-packages (from tensorflow) (3.3.0)\n",
      "Requirement already satisfied: flatbuffers>=2.0 in /Users/derekarmfield/Library/Python/3.8/lib/python/site-packages (from tensorflow) (22.11.23)\n",
      "Requirement already satisfied: six>=1.12.0 in /Library/Developer/CommandLineTools/Library/Frameworks/Python3.framework/Versions/3.8/lib/python3.8/site-packages (from tensorflow) (1.15.0)\n",
      "Requirement already satisfied: tensorflow-estimator<2.12,>=2.11.0 in /Users/derekarmfield/Library/Python/3.8/lib/python/site-packages (from tensorflow) (2.11.0)\n",
      "Requirement already satisfied: wheel<1.0,>=0.23.0 in /Library/Developer/CommandLineTools/Library/Frameworks/Python3.framework/Versions/3.8/lib/python3.8/site-packages (from astunparse>=1.6.0->tensorflow) (0.33.1)\n",
      "Requirement already satisfied: tensorboard-data-server<0.7.0,>=0.6.0 in /Users/derekarmfield/Library/Python/3.8/lib/python/site-packages (from tensorboard<2.12,>=2.11->tensorflow) (0.6.1)\n",
      "Requirement already satisfied: requests<3,>=2.21.0 in /Users/derekarmfield/Library/Python/3.8/lib/python/site-packages (from tensorboard<2.12,>=2.11->tensorflow) (2.28.1)\n",
      "Requirement already satisfied: werkzeug>=1.0.1 in /Users/derekarmfield/Library/Python/3.8/lib/python/site-packages (from tensorboard<2.12,>=2.11->tensorflow) (2.2.2)\n",
      "Requirement already satisfied: markdown>=2.6.8 in /Users/derekarmfield/Library/Python/3.8/lib/python/site-packages (from tensorboard<2.12,>=2.11->tensorflow) (3.4.1)\n",
      "Requirement already satisfied: google-auth<3,>=1.6.3 in /Users/derekarmfield/Library/Python/3.8/lib/python/site-packages (from tensorboard<2.12,>=2.11->tensorflow) (2.14.1)\n",
      "Requirement already satisfied: google-auth-oauthlib<0.5,>=0.4.1 in /Users/derekarmfield/Library/Python/3.8/lib/python/site-packages (from tensorboard<2.12,>=2.11->tensorflow) (0.4.6)\n",
      "Requirement already satisfied: tensorboard-plugin-wit>=1.6.0 in /Users/derekarmfield/Library/Python/3.8/lib/python/site-packages (from tensorboard<2.12,>=2.11->tensorflow) (1.8.1)\n",
      "Requirement already satisfied: pyparsing!=3.0.5,>=2.0.2 in /Users/derekarmfield/Library/Python/3.8/lib/python/site-packages (from packaging->tensorflow) (3.0.9)\n",
      "Requirement already satisfied: rsa<5,>=3.1.4 in /Users/derekarmfield/Library/Python/3.8/lib/python/site-packages (from google-auth<3,>=1.6.3->tensorboard<2.12,>=2.11->tensorflow) (4.9)\n",
      "Requirement already satisfied: pyasn1-modules>=0.2.1 in /Users/derekarmfield/Library/Python/3.8/lib/python/site-packages (from google-auth<3,>=1.6.3->tensorboard<2.12,>=2.11->tensorflow) (0.2.8)\n",
      "Requirement already satisfied: cachetools<6.0,>=2.0.0 in /Users/derekarmfield/Library/Python/3.8/lib/python/site-packages (from google-auth<3,>=1.6.3->tensorboard<2.12,>=2.11->tensorflow) (5.2.0)\n",
      "Requirement already satisfied: requests-oauthlib>=0.7.0 in /Users/derekarmfield/Library/Python/3.8/lib/python/site-packages (from google-auth-oauthlib<0.5,>=0.4.1->tensorboard<2.12,>=2.11->tensorflow) (1.3.1)\n",
      "Requirement already satisfied: importlib-metadata>=4.4 in /Users/derekarmfield/Library/Python/3.8/lib/python/site-packages (from markdown>=2.6.8->tensorboard<2.12,>=2.11->tensorflow) (5.1.0)\n",
      "Requirement already satisfied: certifi>=2017.4.17 in /Users/derekarmfield/Library/Python/3.8/lib/python/site-packages (from requests<3,>=2.21.0->tensorboard<2.12,>=2.11->tensorflow) (2022.9.24)\n",
      "Requirement already satisfied: idna<4,>=2.5 in /Users/derekarmfield/Library/Python/3.8/lib/python/site-packages (from requests<3,>=2.21.0->tensorboard<2.12,>=2.11->tensorflow) (3.4)\n",
      "Requirement already satisfied: urllib3<1.27,>=1.21.1 in /Users/derekarmfield/Library/Python/3.8/lib/python/site-packages (from requests<3,>=2.21.0->tensorboard<2.12,>=2.11->tensorflow) (1.26.13)\n",
      "Requirement already satisfied: charset-normalizer<3,>=2 in /Users/derekarmfield/Library/Python/3.8/lib/python/site-packages (from requests<3,>=2.21.0->tensorboard<2.12,>=2.11->tensorflow) (2.1.1)\n",
      "Requirement already satisfied: MarkupSafe>=2.1.1 in /Users/derekarmfield/Library/Python/3.8/lib/python/site-packages (from werkzeug>=1.0.1->tensorboard<2.12,>=2.11->tensorflow) (2.1.1)\n",
      "Requirement already satisfied: zipp>=0.5 in /Users/derekarmfield/Library/Python/3.8/lib/python/site-packages (from importlib-metadata>=4.4->markdown>=2.6.8->tensorboard<2.12,>=2.11->tensorflow) (3.11.0)\n",
      "Requirement already satisfied: pyasn1<0.5.0,>=0.4.6 in /Users/derekarmfield/Library/Python/3.8/lib/python/site-packages (from pyasn1-modules>=0.2.1->google-auth<3,>=1.6.3->tensorboard<2.12,>=2.11->tensorflow) (0.4.8)\n",
      "Requirement already satisfied: oauthlib>=3.0.0 in /Users/derekarmfield/Library/Python/3.8/lib/python/site-packages (from requests-oauthlib>=0.7.0->google-auth-oauthlib<0.5,>=0.4.1->tensorboard<2.12,>=2.11->tensorflow) (3.2.2)\n",
      "\n",
      "\u001b[1m[\u001b[0m\u001b[34;49mnotice\u001b[0m\u001b[1;39;49m]\u001b[0m\u001b[39;49m A new release of pip available: \u001b[0m\u001b[31;49m22.2.2\u001b[0m\u001b[39;49m -> \u001b[0m\u001b[32;49m22.3.1\u001b[0m\n",
      "\u001b[1m[\u001b[0m\u001b[34;49mnotice\u001b[0m\u001b[1;39;49m]\u001b[0m\u001b[39;49m To update, run: \u001b[0m\u001b[32;49m/Library/Developer/CommandLineTools/usr/bin/python3 -m pip install --upgrade pip\u001b[0m\n",
      "Note: you may need to restart the kernel to use updated packages.\n",
      "Defaulting to user installation because normal site-packages is not writeable\n",
      "Requirement already satisfied: numpy in /Users/derekarmfield/Library/Python/3.8/lib/python/site-packages (1.23.5)\n",
      "\n",
      "\u001b[1m[\u001b[0m\u001b[34;49mnotice\u001b[0m\u001b[1;39;49m]\u001b[0m\u001b[39;49m A new release of pip available: \u001b[0m\u001b[31;49m22.2.2\u001b[0m\u001b[39;49m -> \u001b[0m\u001b[32;49m22.3.1\u001b[0m\n",
      "\u001b[1m[\u001b[0m\u001b[34;49mnotice\u001b[0m\u001b[1;39;49m]\u001b[0m\u001b[39;49m To update, run: \u001b[0m\u001b[32;49m/Library/Developer/CommandLineTools/usr/bin/python3 -m pip install --upgrade pip\u001b[0m\n",
      "Note: you may need to restart the kernel to use updated packages.\n",
      "Defaulting to user installation because normal site-packages is not writeable\n",
      "Requirement already satisfied: Pillow in /Users/derekarmfield/Library/Python/3.8/lib/python/site-packages (9.3.0)\n",
      "\n",
      "\u001b[1m[\u001b[0m\u001b[34;49mnotice\u001b[0m\u001b[1;39;49m]\u001b[0m\u001b[39;49m A new release of pip available: \u001b[0m\u001b[31;49m22.2.2\u001b[0m\u001b[39;49m -> \u001b[0m\u001b[32;49m22.3.1\u001b[0m\n",
      "\u001b[1m[\u001b[0m\u001b[34;49mnotice\u001b[0m\u001b[1;39;49m]\u001b[0m\u001b[39;49m To update, run: \u001b[0m\u001b[32;49m/Library/Developer/CommandLineTools/usr/bin/python3 -m pip install --upgrade pip\u001b[0m\n",
      "Note: you may need to restart the kernel to use updated packages.\n",
      "Defaulting to user installation because normal site-packages is not writeable\n",
      "Requirement already satisfied: tensorflow_datasets in /Users/derekarmfield/Library/Python/3.8/lib/python/site-packages (4.7.0)\n",
      "Requirement already satisfied: importlib-resources in /Users/derekarmfield/Library/Python/3.8/lib/python/site-packages (from tensorflow_datasets) (5.10.0)\n",
      "Requirement already satisfied: etils[epath] in /Users/derekarmfield/Library/Python/3.8/lib/python/site-packages (from tensorflow_datasets) (0.9.0)\n",
      "Requirement already satisfied: numpy in /Users/derekarmfield/Library/Python/3.8/lib/python/site-packages (from tensorflow_datasets) (1.23.5)\n",
      "Requirement already satisfied: promise in /Users/derekarmfield/Library/Python/3.8/lib/python/site-packages (from tensorflow_datasets) (2.3)\n",
      "Requirement already satisfied: tqdm in /Users/derekarmfield/Library/Python/3.8/lib/python/site-packages (from tensorflow_datasets) (4.64.1)\n",
      "Requirement already satisfied: toml in /Users/derekarmfield/Library/Python/3.8/lib/python/site-packages (from tensorflow_datasets) (0.10.2)\n",
      "Requirement already satisfied: tensorflow-metadata in /Users/derekarmfield/Library/Python/3.8/lib/python/site-packages (from tensorflow_datasets) (1.11.0)\n",
      "Requirement already satisfied: six in /Library/Developer/CommandLineTools/Library/Frameworks/Python3.framework/Versions/3.8/lib/python3.8/site-packages (from tensorflow_datasets) (1.15.0)\n",
      "Requirement already satisfied: termcolor in /Users/derekarmfield/Library/Python/3.8/lib/python/site-packages (from tensorflow_datasets) (2.1.1)\n",
      "Requirement already satisfied: dill in /Users/derekarmfield/Library/Python/3.8/lib/python/site-packages (from tensorflow_datasets) (0.3.6)\n",
      "Requirement already satisfied: protobuf>=3.12.2 in /Users/derekarmfield/Library/Python/3.8/lib/python/site-packages (from tensorflow_datasets) (3.19.6)\n",
      "Requirement already satisfied: requests>=2.19.0 in /Users/derekarmfield/Library/Python/3.8/lib/python/site-packages (from tensorflow_datasets) (2.28.1)\n",
      "Requirement already satisfied: absl-py in /Users/derekarmfield/Library/Python/3.8/lib/python/site-packages (from tensorflow_datasets) (1.3.0)\n",
      "Requirement already satisfied: idna<4,>=2.5 in /Users/derekarmfield/Library/Python/3.8/lib/python/site-packages (from requests>=2.19.0->tensorflow_datasets) (3.4)\n",
      "Requirement already satisfied: charset-normalizer<3,>=2 in /Users/derekarmfield/Library/Python/3.8/lib/python/site-packages (from requests>=2.19.0->tensorflow_datasets) (2.1.1)\n",
      "Requirement already satisfied: certifi>=2017.4.17 in /Users/derekarmfield/Library/Python/3.8/lib/python/site-packages (from requests>=2.19.0->tensorflow_datasets) (2022.9.24)\n",
      "Requirement already satisfied: urllib3<1.27,>=1.21.1 in /Users/derekarmfield/Library/Python/3.8/lib/python/site-packages (from requests>=2.19.0->tensorflow_datasets) (1.26.13)\n",
      "Requirement already satisfied: zipp in /Users/derekarmfield/Library/Python/3.8/lib/python/site-packages (from etils[epath]->tensorflow_datasets) (3.11.0)\n",
      "Requirement already satisfied: typing_extensions in /Users/derekarmfield/Library/Python/3.8/lib/python/site-packages (from etils[epath]->tensorflow_datasets) (4.4.0)\n",
      "Requirement already satisfied: googleapis-common-protos<2,>=1.52.0 in /Users/derekarmfield/Library/Python/3.8/lib/python/site-packages (from tensorflow-metadata->tensorflow_datasets) (1.57.0)\n",
      "\n",
      "\u001b[1m[\u001b[0m\u001b[34;49mnotice\u001b[0m\u001b[1;39;49m]\u001b[0m\u001b[39;49m A new release of pip available: \u001b[0m\u001b[31;49m22.2.2\u001b[0m\u001b[39;49m -> \u001b[0m\u001b[32;49m22.3.1\u001b[0m\n",
      "\u001b[1m[\u001b[0m\u001b[34;49mnotice\u001b[0m\u001b[1;39;49m]\u001b[0m\u001b[39;49m To update, run: \u001b[0m\u001b[32;49m/Library/Developer/CommandLineTools/usr/bin/python3 -m pip install --upgrade pip\u001b[0m\n",
      "Note: you may need to restart the kernel to use updated packages.\n",
      "Defaulting to user installation because normal site-packages is not writeable\n",
      "\u001b[31mERROR: Could not find a version that satisfies the requirement os (from versions: none)\u001b[0m\u001b[31m\n",
      "\u001b[0m\u001b[31mERROR: No matching distribution found for os\u001b[0m\u001b[31m\n",
      "\u001b[0m\n",
      "\u001b[1m[\u001b[0m\u001b[34;49mnotice\u001b[0m\u001b[1;39;49m]\u001b[0m\u001b[39;49m A new release of pip available: \u001b[0m\u001b[31;49m22.2.2\u001b[0m\u001b[39;49m -> \u001b[0m\u001b[32;49m22.3.1\u001b[0m\n",
      "\u001b[1m[\u001b[0m\u001b[34;49mnotice\u001b[0m\u001b[1;39;49m]\u001b[0m\u001b[39;49m To update, run: \u001b[0m\u001b[32;49m/Library/Developer/CommandLineTools/usr/bin/python3 -m pip install --upgrade pip\u001b[0m\n",
      "Note: you may need to restart the kernel to use updated packages.\n",
      "Defaulting to user installation because normal site-packages is not writeable\n",
      "Requirement already satisfied: pandas in /Users/derekarmfield/Library/Python/3.8/lib/python/site-packages (1.5.2)\n",
      "Requirement already satisfied: numpy>=1.20.3 in /Users/derekarmfield/Library/Python/3.8/lib/python/site-packages (from pandas) (1.23.5)\n",
      "Requirement already satisfied: pytz>=2020.1 in /Users/derekarmfield/Library/Python/3.8/lib/python/site-packages (from pandas) (2022.6)\n",
      "Requirement already satisfied: python-dateutil>=2.8.1 in /Users/derekarmfield/Library/Python/3.8/lib/python/site-packages (from pandas) (2.8.2)\n",
      "Requirement already satisfied: six>=1.5 in /Library/Developer/CommandLineTools/Library/Frameworks/Python3.framework/Versions/3.8/lib/python3.8/site-packages (from python-dateutil>=2.8.1->pandas) (1.15.0)\n",
      "\n",
      "\u001b[1m[\u001b[0m\u001b[34;49mnotice\u001b[0m\u001b[1;39;49m]\u001b[0m\u001b[39;49m A new release of pip available: \u001b[0m\u001b[31;49m22.2.2\u001b[0m\u001b[39;49m -> \u001b[0m\u001b[32;49m22.3.1\u001b[0m\n",
      "\u001b[1m[\u001b[0m\u001b[34;49mnotice\u001b[0m\u001b[1;39;49m]\u001b[0m\u001b[39;49m To update, run: \u001b[0m\u001b[32;49m/Library/Developer/CommandLineTools/usr/bin/python3 -m pip install --upgrade pip\u001b[0m\n",
      "Note: you may need to restart the kernel to use updated packages.\n",
      "Defaulting to user installation because normal site-packages is not writeable\n",
      "Collecting matplotlib\n",
      "  Downloading matplotlib-3.6.2-cp38-cp38-macosx_10_12_x86_64.whl (7.3 MB)\n",
      "\u001b[2K     \u001b[90m━━━━━━━━━━━━━━━━━━━━━━━━━━━━━━━━━━━━━━━━\u001b[0m \u001b[32m7.3/7.3 MB\u001b[0m \u001b[31m7.9 MB/s\u001b[0m eta \u001b[36m0:00:00\u001b[0m00:01\u001b[0m00:01\u001b[0m\n",
      "\u001b[?25hRequirement already satisfied: numpy>=1.19 in /Users/derekarmfield/Library/Python/3.8/lib/python/site-packages (from matplotlib) (1.23.5)\n",
      "Requirement already satisfied: pillow>=6.2.0 in /Users/derekarmfield/Library/Python/3.8/lib/python/site-packages (from matplotlib) (9.3.0)\n",
      "Requirement already satisfied: packaging>=20.0 in /Users/derekarmfield/Library/Python/3.8/lib/python/site-packages (from matplotlib) (21.3)\n",
      "Collecting fonttools>=4.22.0\n",
      "  Downloading fonttools-4.38.0-py3-none-any.whl (965 kB)\n",
      "\u001b[2K     \u001b[90m━━━━━━━━━━━━━━━━━━━━━━━━━━━━━━━━━━━━━━━\u001b[0m \u001b[32m965.4/965.4 kB\u001b[0m \u001b[31m7.6 MB/s\u001b[0m eta \u001b[36m0:00:00\u001b[0m00:01\u001b[0m00:01\u001b[0m\n",
      "\u001b[?25hCollecting contourpy>=1.0.1\n",
      "  Downloading contourpy-1.0.6-cp38-cp38-macosx_10_9_x86_64.whl (240 kB)\n",
      "\u001b[2K     \u001b[90m━━━━━━━━━━━━━━━━━━━━━━━━━━━━━━━━━━━━━━━\u001b[0m \u001b[32m240.6/240.6 kB\u001b[0m \u001b[31m3.4 MB/s\u001b[0m eta \u001b[36m0:00:00\u001b[0m00:01\u001b[0m\n",
      "\u001b[?25hCollecting cycler>=0.10\n",
      "  Using cached cycler-0.11.0-py3-none-any.whl (6.4 kB)\n",
      "Collecting kiwisolver>=1.0.1\n",
      "  Using cached kiwisolver-1.4.4-cp38-cp38-macosx_10_9_x86_64.whl (65 kB)\n",
      "Requirement already satisfied: python-dateutil>=2.7 in /Users/derekarmfield/Library/Python/3.8/lib/python/site-packages (from matplotlib) (2.8.2)\n",
      "Requirement already satisfied: pyparsing>=2.2.1 in /Users/derekarmfield/Library/Python/3.8/lib/python/site-packages (from matplotlib) (3.0.9)\n",
      "Requirement already satisfied: six>=1.5 in /Library/Developer/CommandLineTools/Library/Frameworks/Python3.framework/Versions/3.8/lib/python3.8/site-packages (from python-dateutil>=2.7->matplotlib) (1.15.0)\n",
      "Installing collected packages: kiwisolver, fonttools, cycler, contourpy, matplotlib\n",
      "\u001b[33m  WARNING: The scripts fonttools, pyftmerge, pyftsubset and ttx are installed in '/Users/derekarmfield/Library/Python/3.8/bin' which is not on PATH.\n",
      "  Consider adding this directory to PATH or, if you prefer to suppress this warning, use --no-warn-script-location.\u001b[0m\u001b[33m\n",
      "\u001b[0mSuccessfully installed contourpy-1.0.6 cycler-0.11.0 fonttools-4.38.0 kiwisolver-1.4.4 matplotlib-3.6.2\n",
      "\n",
      "\u001b[1m[\u001b[0m\u001b[34;49mnotice\u001b[0m\u001b[1;39;49m]\u001b[0m\u001b[39;49m A new release of pip available: \u001b[0m\u001b[31;49m22.2.2\u001b[0m\u001b[39;49m -> \u001b[0m\u001b[32;49m22.3.1\u001b[0m\n",
      "\u001b[1m[\u001b[0m\u001b[34;49mnotice\u001b[0m\u001b[1;39;49m]\u001b[0m\u001b[39;49m To update, run: \u001b[0m\u001b[32;49m/Library/Developer/CommandLineTools/usr/bin/python3 -m pip install --upgrade pip\u001b[0m\n",
      "Note: you may need to restart the kernel to use updated packages.\n"
     ]
    }
   ],
   "source": [
    "#@title Import Depencies\n",
    "%pip install tensorflow\n",
    "%pip install numpy\n",
    "%pip install tensorflow_datasets\n",
    "%pip install os\n",
    "%pip install pandas\n",
    "%pip install matplotlib\n",
    "\n",
    "import numpy as np\n",
    "from PIL import Image\n",
    "import pandas\n",
    "import tensorflow as tf\n",
    "import tensorflow_datasets as tfds\n",
    "\n"
   ]
  },
  {
   "cell_type": "code",
   "execution_count": null,
   "metadata": {},
   "outputs": [],
   "source": [
    "# Steps to creating an digit classifier\n",
    "\n",
    "#1. Get the data\n",
    "# - Download the data\n",
    "# - Process the data\n",
    "\n",
    "#2. Pass Data through the model\n",
    "# - Create model architecture\n",
    "# - Train model "
   ]
  },
  {
   "cell_type": "code",
   "execution_count": 8,
   "metadata": {},
   "outputs": [
    {
     "name": "stderr",
     "output_type": "stream",
     "text": [
      "2022-12-01 12:20:38.667941: I tensorflow/core/platform/cpu_feature_guard.cc:193] This TensorFlow binary is optimized with oneAPI Deep Neural Network Library (oneDNN) to use the following CPU instructions in performance-critical operations:  AVX2 AVX512F AVX512_VNNI FMA\n",
      "To enable them in other operations, rebuild TensorFlow with the appropriate compiler flags.\n"
     ]
    }
   ],
   "source": [
    "# Download MNIST dataset from tensorflow datasets (tfds)\n",
    "(train_ds, test_ds), info = tfds.load('mnist', split=['train', 'test'], shuffle_files=False, as_supervised=True, with_info=True)\n",
    "assert isinstance(train_ds, tf.data.Dataset)\n"
   ]
  },
  {
   "cell_type": "code",
   "execution_count": 13,
   "metadata": {},
   "outputs": [
    {
     "name": "stderr",
     "output_type": "stream",
     "text": [
      "2022-12-01 12:23:11.153180: W tensorflow/core/kernels/data/cache_dataset_ops.cc:856] The calling iterator did not fully read the dataset being cached. In order to avoid unexpected truncation of the dataset, the partially cached contents of the dataset  will be discarded. This can happen if you have an input pipeline similar to `dataset.cache().take(k).repeat()`. You should use `dataset.take(k).cache().repeat()` instead.\n"
     ]
    },
    {
     "ename": "TypeError",
     "evalue": "object.__init__() takes exactly one argument (the instance to initialize)",
     "output_type": "error",
     "traceback": [
      "\u001b[0;31m---------------------------------------------------------------------------\u001b[0m",
      "\u001b[0;31mTypeError\u001b[0m                                 Traceback (most recent call last)",
      "Cell \u001b[0;32mIn[13], line 3\u001b[0m\n\u001b[1;32m      1\u001b[0m \u001b[38;5;66;03m# View data from dataset\u001b[39;00m\n\u001b[1;32m      2\u001b[0m sample \u001b[38;5;241m=\u001b[39m train_ds\u001b[38;5;241m.\u001b[39mtake(\u001b[38;5;241m5\u001b[39m) \u001b[38;5;66;03m# let's take the first 5 datapoints from the training dataset to view\u001b[39;00m\n\u001b[0;32m----> 3\u001b[0m \u001b[43mtfds\u001b[49m\u001b[38;5;241;43m.\u001b[39;49m\u001b[43mas_dataframe\u001b[49m\u001b[43m(\u001b[49m\u001b[43mtrain_ds\u001b[49m\u001b[38;5;241;43m.\u001b[39;49m\u001b[43mtake\u001b[49m\u001b[43m(\u001b[49m\u001b[38;5;241;43m5\u001b[39;49m\u001b[43m)\u001b[49m\u001b[43m,\u001b[49m\u001b[43m \u001b[49m\u001b[43minfo\u001b[49m\u001b[43m)\u001b[49m \u001b[38;5;66;03m# using tfds, we are able to see what some sample data looks like\u001b[39;00m\n",
      "File \u001b[0;32m~/Library/Python/3.8/lib/python/site-packages/tensorflow_datasets/core/as_dataframe.py:218\u001b[0m, in \u001b[0;36mas_dataframe\u001b[0;34m(ds, ds_info)\u001b[0m\n\u001b[1;32m    216\u001b[0m columns \u001b[39m=\u001b[39m _make_columns(ds\u001b[39m.\u001b[39melement_spec, ds_info\u001b[39m=\u001b[39mds_info)\n\u001b[1;32m    217\u001b[0m rows \u001b[39m=\u001b[39m [_make_row_dict(ex, columns) \u001b[39mfor\u001b[39;00m ex \u001b[39min\u001b[39;00m dataset_utils\u001b[39m.\u001b[39mas_numpy(ds)]\n\u001b[0;32m--> 218\u001b[0m df \u001b[39m=\u001b[39m StyledDataFrame(rows)\n\u001b[1;32m    219\u001b[0m df\u001b[39m.\u001b[39mcurrent_style\u001b[39m.\u001b[39mformat({c\u001b[39m.\u001b[39mname: c\u001b[39m.\u001b[39mformat_fn \u001b[39mfor\u001b[39;00m c \u001b[39min\u001b[39;00m columns \u001b[39mif\u001b[39;00m c\u001b[39m.\u001b[39mformat_fn})\n\u001b[1;32m    220\u001b[0m \u001b[39mreturn\u001b[39;00m df\n",
      "File \u001b[0;32m~/Library/Python/3.8/lib/python/site-packages/tensorflow_datasets/core/as_dataframe.py:144\u001b[0m, in \u001b[0;36mStyledDataFrame.__init__\u001b[0;34m(self, *args, **kwargs)\u001b[0m\n\u001b[1;32m    143\u001b[0m \u001b[39mdef\u001b[39;00m \u001b[39m__init__\u001b[39m(\u001b[39mself\u001b[39m, \u001b[39m*\u001b[39margs, \u001b[39m*\u001b[39m\u001b[39m*\u001b[39mkwargs):\n\u001b[0;32m--> 144\u001b[0m   \u001b[39msuper\u001b[39;49m()\u001b[39m.\u001b[39;49m\u001b[39m__init__\u001b[39;49m(\u001b[39m*\u001b[39;49margs, \u001b[39m*\u001b[39;49m\u001b[39m*\u001b[39;49mkwargs)\n\u001b[1;32m    145\u001b[0m   \u001b[39m# Use name-mangling for forward-compatibility in case pandas\u001b[39;00m\n\u001b[1;32m    146\u001b[0m   \u001b[39m# adds a `_styler` attribute in the future.\u001b[39;00m\n\u001b[1;32m    147\u001b[0m   \u001b[39mself\u001b[39m\u001b[39m.\u001b[39m__styler: Optional[Styler] \u001b[39m=\u001b[39m \u001b[39mNone\u001b[39;00m\n",
      "\u001b[0;31mTypeError\u001b[0m: object.__init__() takes exactly one argument (the instance to initialize)"
     ]
    }
   ],
   "source": [
    "# View data from dataset\n",
    "sample = train_ds.take(5) # let's take the first 5 datapoints from the training dataset to view\n",
    "tfds.as_dataframe(train_ds.take(5), info) # using tfds, we are able to see what some sample data looks like"
   ]
  },
  {
   "cell_type": "code",
   "execution_count": 33,
   "metadata": {},
   "outputs": [],
   "source": [
    "# create the model \n",
    "model = tf.keras.Sequential([\n",
    "    tf.keras.layers.Input(shape=(28, 28, 1)),\n",
    "    tf.keras.layers.Rescaling(1./255),\n",
    "    tf.keras.layers.Flatten(), \n",
    "    tf.keras.layers.Dense(128),\n",
    "    tf.keras.layers.Dense(64),\n",
    "    tf.keras.layers.Dense(10)\n",
    "])"
   ]
  },
  {
   "cell_type": "code",
   "execution_count": null,
   "metadata": {},
   "outputs": [
    {
     "name": "stdout",
     "output_type": "stream",
     "text": [
      "Epoch 1/5\n",
      "3750/3750 [==============================] - 52s 13ms/step - loss: 3.6997\n",
      "Epoch 2/5\n",
      "3750/3750 [==============================] - 39s 10ms/step - loss: 3.4083\n",
      "Epoch 3/5\n",
      "3750/3750 [==============================] - 40s 11ms/step - loss: 3.3625\n",
      "Epoch 4/5\n",
      "3750/3750 [==============================] - 39s 10ms/step - loss: 3.3337\n",
      "Epoch 5/5\n",
      "3750/3750 [==============================] - 39s 10ms/step - loss: 3.3125\n"
     ]
    },
    {
     "data": {
      "text/plain": [
       "<keras.callbacks.History at 0x151845340>"
      ]
     },
     "execution_count": 34,
     "metadata": {},
     "output_type": "execute_result"
    }
   ],
   "source": [
    "# compile the model\n",
    "model.compile(optimizer='adam', loss=tf.keras.losses.SparseCategoricalCrossentropy(from_logits=True))\n",
    "\n",
    "# train the model\n",
    "model.fit(train_ds.batch(16), epochs=5)"
   ]
  },
  {
   "cell_type": "code",
   "execution_count": null,
   "metadata": {},
   "outputs": [],
   "source": [
    "# Evaluate the model\n",
    "model.evaluate(test_ds.batch(16))"
   ]
  }
 ],
 "metadata": {
  "kernelspec": {
   "display_name": "Python 3.8.2 64-bit",
   "language": "python",
   "name": "python3"
  },
  "language_info": {
   "codemirror_mode": {
    "name": "ipython",
    "version": 3
   },
   "file_extension": ".py",
   "mimetype": "text/x-python",
   "name": "python",
   "nbconvert_exporter": "python",
   "pygments_lexer": "ipython3",
   "version": "3.8.2"
  },
  "orig_nbformat": 4,
  "vscode": {
   "interpreter": {
    "hash": "31f2aee4e71d21fbe5cf8b01ff0e069b9275f58929596ceb00d14d90e3e16cd6"
   }
  }
 },
 "nbformat": 4,
 "nbformat_minor": 2
}
