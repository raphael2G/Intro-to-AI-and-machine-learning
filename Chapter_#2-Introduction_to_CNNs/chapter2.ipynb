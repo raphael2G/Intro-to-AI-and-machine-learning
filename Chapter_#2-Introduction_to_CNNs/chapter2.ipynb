{
 "cells": [
  {
   "cell_type": "code",
   "execution_count": null,
   "metadata": {},
   "outputs": [],
   "source": [
    "%%capture\n",
    "# Download dependcies\n",
    "%pip install -q jmd_imagescraper\n",
    "%pip install tensorflow_datasets"
   ]
  },
  {
   "cell_type": "code",
   "execution_count": null,
   "metadata": {},
   "outputs": [],
   "source": [
    "%%capture\n",
    "# Import Dependencies\n",
    "import tensorflow as tf\n",
    "import tensorflow_datasets as tfds\n",
    "import numpy as np"
   ]
  },
  {
   "cell_type": "code",
   "execution_count": null,
   "metadata": {},
   "outputs": [],
   "source": [
    "from pathlib import Path\n",
    "root = Path().cwd()/\"images\"\n",
    "\n",
    "from jmd_imagescraper.core import * # dont't worry, it's designed to work with import *\n",
    "\n",
    "duckduckgo_search(root, \"Cats\", \"cute kittens\", max_results=100)\n",
    "duckduckgo_search(root, \"Dogs\", \"cute puppies\", max_results=100)"
   ]
  }
 ],
 "metadata": {
  "kernelspec": {
   "display_name": "Python 3.10.8",
   "language": "python",
   "name": "python3"
  },
  "language_info": {
   "name": "python",
   "version": "3.10.8"
  },
  "orig_nbformat": 4,
  "vscode": {
   "interpreter": {
    "hash": "cf8ec2b10e5872c21395741e4882c7bbe6c5767097b3ea8dc8629f71b15614b7"
   }
  }
 },
 "nbformat": 4,
 "nbformat_minor": 2
}
