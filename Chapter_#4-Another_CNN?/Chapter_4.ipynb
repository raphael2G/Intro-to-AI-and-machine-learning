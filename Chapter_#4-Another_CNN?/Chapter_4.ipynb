{
 "cells": [
  {
   "cell_type": "markdown",
   "metadata": {},
   "source": [
    "In this chapter, we're going to be creating (another) CNN, but this time we'll be training it with our own custom training loop. Instead of using model.fit, we'll be learning about loss, gradient descent, optimziers, and learning rate. This is our first real experience with the mathematics behind machine learning. "
   ]
  },
  {
   "cell_type": "code",
   "execution_count": null,
   "metadata": {},
   "outputs": [],
   "source": [
    "!pip install tensorflow_datasets==4.7\n",
    "import tensorflow as tf\n",
    "import tensorflow_datasets as tfds\n",
    "from tensorflow.keras import Sequential, losses, metrics, layers\n",
    "import numpy as np\n",
    "from PIL import Image"
   ]
  },
  {
   "cell_type": "markdown",
   "metadata": {},
   "source": [
    "After we download and import our dependcies, we have to begin coding. \n",
    "\n",
    "1. Create dataset\n",
    "2. Create model\n",
    "3. Create training loop\n",
    "4. Train model\n",
    "5. Validate model\n",
    "\n",
    "Our steps towards creating and training our model are relatively similar to what we have done previously. Making our own custom training loops opens up a lot of new doors for us to optimize our models, and try new methods. "
   ]
  },
  {
   "cell_type": "code",
   "execution_count": null,
   "metadata": {},
   "outputs": [],
   "source": [
    "(train_ds, test_ds), info = tfds.load('')"
   ]
  }
 ],
 "metadata": {
  "kernelspec": {
   "display_name": "Python 3.10.8",
   "language": "python",
   "name": "python3"
  },
  "language_info": {
   "name": "python",
   "version": "3.10.8"
  },
  "orig_nbformat": 4,
  "vscode": {
   "interpreter": {
    "hash": "cf8ec2b10e5872c21395741e4882c7bbe6c5767097b3ea8dc8629f71b15614b7"
   }
  }
 },
 "nbformat": 4,
 "nbformat_minor": 2
}
